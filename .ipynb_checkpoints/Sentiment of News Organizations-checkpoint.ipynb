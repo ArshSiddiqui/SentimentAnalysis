{
 "cells": [
  {
   "cell_type": "code",
   "execution_count": 42,
   "id": "17afb519",
   "metadata": {},
   "outputs": [],
   "source": [
    "import pandas as pd\n",
    "import nltk\n",
    "from nltk.corpus import stopwords\n",
    "import datetime\n",
    "import numpy as np\n",
    "from vaderSentiment.vaderSentiment import SentimentIntensityAnalyzer\n",
    "import matplotlib.pyplot as plt\n",
    "\n",
    "stop_words = set(stopwords.words('english'))"
   ]
  },
  {
   "cell_type": "code",
   "execution_count": 43,
   "id": "35019035",
   "metadata": {},
   "outputs": [],
   "source": [
    "# The New York Times"
   ]
  },
  {
   "cell_type": "code",
   "execution_count": 44,
   "id": "6f63fedf",
   "metadata": {},
   "outputs": [],
   "source": [
    "NYTApril2017 = pd.read_csv(\"NYT_Articles/ArticlesApril2017.csv\")\n",
    "NYTApril2018 = pd.read_csv(\"NYT_Articles/ArticlesApril2018.csv\")\n",
    "NYTFeb2017 = pd.read_csv(\"NYT_Articles/ArticlesFeb2017.csv\")\n",
    "NYTFeb2018 = pd.read_csv(\"NYT_Articles/ArticlesFeb2018.csv\")\n",
    "NYTJan2017 = pd.read_csv(\"NYT_Articles/ArticlesJan2017.csv\")\n",
    "NYTJan2018 = pd.read_csv(\"NYT_Articles/ArticlesJan2018.csv\")\n",
    "NYTMarch2017 = pd.read_csv(\"NYT_Articles/ArticlesMarch2017.csv\")\n",
    "NYTMarch2018 = pd.read_csv(\"NYT_Articles/ArticlesMarch2018.csv\")\n",
    "NYTMay2017 = pd.read_csv(\"NYT_Articles/ArticlesMay2017.csv\")"
   ]
  },
  {
   "cell_type": "code",
   "execution_count": 45,
   "id": "ba7d21b1",
   "metadata": {},
   "outputs": [
    {
     "data": {
      "text/html": [
       "<div>\n",
       "<style scoped>\n",
       "    .dataframe tbody tr th:only-of-type {\n",
       "        vertical-align: middle;\n",
       "    }\n",
       "\n",
       "    .dataframe tbody tr th {\n",
       "        vertical-align: top;\n",
       "    }\n",
       "\n",
       "    .dataframe thead th {\n",
       "        text-align: right;\n",
       "    }\n",
       "</style>\n",
       "<table border=\"1\" class=\"dataframe\">\n",
       "  <thead>\n",
       "    <tr style=\"text-align: right;\">\n",
       "      <th></th>\n",
       "      <th>Headline</th>\n",
       "      <th>Dates</th>\n",
       "      <th>Sentiment</th>\n",
       "    </tr>\n",
       "  </thead>\n",
       "  <tbody>\n",
       "    <tr>\n",
       "      <th>0</th>\n",
       "      <td>Finding an Expansive View  of a Forgotten Peop...</td>\n",
       "      <td>2017-04-01</td>\n",
       "      <td>{'neg': 0.0, 'neu': 1.0, 'pos': 0.0, 'compound...</td>\n",
       "    </tr>\n",
       "    <tr>\n",
       "      <th>1</th>\n",
       "      <td>And Now,  the Dreaded Trump Curse</td>\n",
       "      <td>2017-04-01</td>\n",
       "      <td>{'neg': 0.0, 'neu': 1.0, 'pos': 0.0, 'compound...</td>\n",
       "    </tr>\n",
       "    <tr>\n",
       "      <th>2</th>\n",
       "      <td>Venezuela’s Descent Into Dictatorship</td>\n",
       "      <td>2017-04-01</td>\n",
       "      <td>{'neg': 0.0, 'neu': 1.0, 'pos': 0.0, 'compound...</td>\n",
       "    </tr>\n",
       "    <tr>\n",
       "      <th>3</th>\n",
       "      <td>Stain Permeates Basketball Blue Blood</td>\n",
       "      <td>2017-04-01</td>\n",
       "      <td>{'neg': 0.0, 'neu': 0.548, 'pos': 0.452, 'comp...</td>\n",
       "    </tr>\n",
       "    <tr>\n",
       "      <th>4</th>\n",
       "      <td>Taking Things for Granted</td>\n",
       "      <td>2017-04-01</td>\n",
       "      <td>{'neg': 0.0, 'neu': 1.0, 'pos': 0.0, 'compound...</td>\n",
       "    </tr>\n",
       "    <tr>\n",
       "      <th>...</th>\n",
       "      <td>...</td>\n",
       "      <td>...</td>\n",
       "      <td>...</td>\n",
       "    </tr>\n",
       "    <tr>\n",
       "      <th>9330</th>\n",
       "      <td>Yes, You Can Write More Than One Letter in a S...</td>\n",
       "      <td>2017-05-01</td>\n",
       "      <td>{'neg': 0.0, 'neu': 1.0, 'pos': 0.0, 'compound...</td>\n",
       "    </tr>\n",
       "    <tr>\n",
       "      <th>9331</th>\n",
       "      <td>Trump’s Act  Of Gratuitous Destruction</td>\n",
       "      <td>2017-05-01</td>\n",
       "      <td>{'neg': 0.0, 'neu': 1.0, 'pos': 0.0, 'compound...</td>\n",
       "    </tr>\n",
       "    <tr>\n",
       "      <th>9332</th>\n",
       "      <td>Petty Crime, Daunting Bail</td>\n",
       "      <td>2017-05-01</td>\n",
       "      <td>{'neg': 0.0, 'neu': 0.476, 'pos': 0.524, 'comp...</td>\n",
       "    </tr>\n",
       "    <tr>\n",
       "      <th>9333</th>\n",
       "      <td>Unknown</td>\n",
       "      <td>2017-05-01</td>\n",
       "      <td>{'neg': 0.0, 'neu': 1.0, 'pos': 0.0, 'compound...</td>\n",
       "    </tr>\n",
       "    <tr>\n",
       "      <th>9334</th>\n",
       "      <td>Bucking Trump, These Cities, States and Compan...</td>\n",
       "      <td>2017-05-01</td>\n",
       "      <td>{'neg': 0.0, 'neu': 1.0, 'pos': 0.0, 'compound...</td>\n",
       "    </tr>\n",
       "  </tbody>\n",
       "</table>\n",
       "<p>9335 rows × 3 columns</p>\n",
       "</div>"
      ],
      "text/plain": [
       "                                               Headline      Dates  \\\n",
       "0     Finding an Expansive View  of a Forgotten Peop... 2017-04-01   \n",
       "1                     And Now,  the Dreaded Trump Curse 2017-04-01   \n",
       "2                 Venezuela’s Descent Into Dictatorship 2017-04-01   \n",
       "3                 Stain Permeates Basketball Blue Blood 2017-04-01   \n",
       "4                             Taking Things for Granted 2017-04-01   \n",
       "...                                                 ...        ...   \n",
       "9330  Yes, You Can Write More Than One Letter in a S... 2017-05-01   \n",
       "9331             Trump’s Act  Of Gratuitous Destruction 2017-05-01   \n",
       "9332                         Petty Crime, Daunting Bail 2017-05-01   \n",
       "9333                                            Unknown 2017-05-01   \n",
       "9334  Bucking Trump, These Cities, States and Compan... 2017-05-01   \n",
       "\n",
       "                                              Sentiment  \n",
       "0     {'neg': 0.0, 'neu': 1.0, 'pos': 0.0, 'compound...  \n",
       "1     {'neg': 0.0, 'neu': 1.0, 'pos': 0.0, 'compound...  \n",
       "2     {'neg': 0.0, 'neu': 1.0, 'pos': 0.0, 'compound...  \n",
       "3     {'neg': 0.0, 'neu': 0.548, 'pos': 0.452, 'comp...  \n",
       "4     {'neg': 0.0, 'neu': 1.0, 'pos': 0.0, 'compound...  \n",
       "...                                                 ...  \n",
       "9330  {'neg': 0.0, 'neu': 1.0, 'pos': 0.0, 'compound...  \n",
       "9331  {'neg': 0.0, 'neu': 1.0, 'pos': 0.0, 'compound...  \n",
       "9332  {'neg': 0.0, 'neu': 0.476, 'pos': 0.524, 'comp...  \n",
       "9333  {'neg': 0.0, 'neu': 1.0, 'pos': 0.0, 'compound...  \n",
       "9334  {'neg': 0.0, 'neu': 1.0, 'pos': 0.0, 'compound...  \n",
       "\n",
       "[9335 rows x 3 columns]"
      ]
     },
     "execution_count": 45,
     "metadata": {},
     "output_type": "execute_result"
    }
   ],
   "source": [
    "NYTHeadlines = []\n",
    "dates = []\n",
    "\n",
    "for a7 in NYTApril2017.headline:\n",
    "    NYTHeadlines.append(a7)\n",
    "    dates.append(datetime.datetime(2017, 4, 1))\n",
    "for a8 in NYTApril2018.headline:\n",
    "    NYTHeadlines.append(a8)\n",
    "    dates.append(datetime.datetime(2018, 4, 1))\n",
    "for f7 in NYTFeb2017.headline:\n",
    "    NYTHeadlines.append(f7)\n",
    "    dates.append(datetime.datetime(2017, 2, 1))\n",
    "for f8 in NYTFeb2018.headline:\n",
    "    NYTHeadlines.append(f8)\n",
    "    dates.append(datetime.datetime(2018, 2, 1))\n",
    "for j7 in NYTJan2017.headline:\n",
    "    NYTHeadlines.append(j7)\n",
    "    dates.append(datetime.datetime(2017, 1, 1))\n",
    "for j8 in NYTJan2018.headline:\n",
    "    NYTHeadlines.append(j8)\n",
    "    dates.append(datetime.datetime(2018, 1, 1))\n",
    "for m7 in NYTMarch2017.headline:\n",
    "    NYTHeadlines.append(m7)\n",
    "    dates.append(datetime.datetime(2017, 5, 1))\n",
    "for m8 in NYTMarch2018.headline:\n",
    "    NYTHeadlines.append(m8)\n",
    "    dates.append(datetime.datetime(2018, 5, 1))\n",
    "for may7 in NYTMay2017.headline:\n",
    "    NYTHeadlines.append(may7)\n",
    "    dates.append(datetime.datetime(2017, 5, 1))\n",
    "\n",
    "sentiment = SentimentIntensityAnalyzer()\n",
    "NYTsentiments = []\n",
    "\n",
    "for hl in NYTHeadlines:\n",
    "    NYTsentiments.append( sentiment.polarity_scores(word for word in hl if word not in stop_words) )\n",
    "    \n",
    "NYTHeadlines_Dates = pd.DataFrame({'Headline': np.array(NYTHeadlines), 'Dates': list(np.array(dates)), 'Sentiment': list(np.array(NYTsentiments))})\n",
    "NYTHeadlines_Dates    "
   ]
  },
  {
   "cell_type": "code",
   "execution_count": 80,
   "id": "36fe0d8d",
   "metadata": {},
   "outputs": [
    {
     "data": {
      "text/plain": [
       "<matplotlib.collections.PathCollection at 0x1f8d1d61190>"
      ]
     },
     "execution_count": 80,
     "metadata": {},
     "output_type": "execute_result"
    },
    {
     "data": {
      "image/png": "[encoded data removed]",
      "text/plain": [
       "<Figure size 432x288 with 1 Axes>"
      ]
     },
     "metadata": {
      "needs_background": "light"
     },
     "output_type": "display_data"
    }
   ],
   "source": [
    "# NYTHeadlines_Dates['Sentiment'][0]['compound']\n",
    "NYTCompoundSentimentScore = []\n",
    "for c in range(0, len(NYTHeadlines_Dates['Sentiment'])):\n",
    "    NYTCompoundSentimentScore.append(NYTHeadlines_Dates['Sentiment'][c]['compound'])\n",
    "NYTCompoundSentimentScore\n",
    "plt.scatter(NYTHeadlines_Dates['Dates'], NYTCompoundSentimentScore, alpha = 0.1)"
   ]
  },
  {
   "cell_type": "code",
   "execution_count": 83,
   "id": "803e87b0",
   "metadata": {},
   "outputs": [
    {
     "data": {
      "text/plain": [
       "0.01796227102303163"
      ]
     },
     "execution_count": 83,
     "metadata": {},
     "output_type": "execute_result"
    }
   ],
   "source": [
    "NYTTotSentiments = 0\n",
    "for c in range(0, len(NYTsentiments)):\n",
    "    NYTTotSentiments += NYTsentiments[c]['compound']\n",
    "NYTTotSentiments /= len(NYTsentiments)\n",
    "print(\"Average NYT Sentiment:\", NYTTotSentiments)"
   ]
  },
  {
   "cell_type": "code",
   "execution_count": null,
   "id": "9e6e61da",
   "metadata": {},
   "outputs": [],
   "source": []
  },
  {
   "cell_type": "code",
   "execution_count": null,
   "id": "a8bb70c8",
   "metadata": {},
   "outputs": [],
   "source": []
  },
  {
   "cell_type": "code",
   "execution_count": null,
   "id": "408404be",
   "metadata": {},
   "outputs": [],
   "source": []
  },
  {
   "cell_type": "code",
   "execution_count": null,
   "id": "5ad3ce40",
   "metadata": {},
   "outputs": [],
   "source": []
  },
  {
   "cell_type": "code",
   "execution_count": null,
   "id": "5cd8d5e9",
   "metadata": {},
   "outputs": [],
   "source": []
  },
  {
   "cell_type": "code",
   "execution_count": null,
   "id": "55830336",
   "metadata": {},
   "outputs": [],
   "source": []
  },
  {
   "cell_type": "code",
   "execution_count": null,
   "id": "23e75151",
   "metadata": {},
   "outputs": [],
   "source": []
  },
  {
   "cell_type": "code",
   "execution_count": null,
   "id": "ef3337d8",
   "metadata": {},
   "outputs": [],
   "source": []
  }
 ],
 "metadata": {
  "kernelspec": {
   "display_name": "Python 3",
   "language": "python",
   "name": "python3"
  },
  "language_info": {
   "codemirror_mode": {
    "name": "ipython",
    "version": 3
   },
   "file_extension": ".py",
   "mimetype": "text/x-python",
   "name": "python",
   "nbconvert_exporter": "python",
   "pygments_lexer": "ipython3",
   "version": "3.8.8"
  }
 },
 "nbformat": 4,
 "nbformat_minor": 5
}
